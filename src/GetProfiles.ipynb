{
 "metadata": {
  "name": ""
 },
 "nbformat": 3,
 "nbformat_minor": 0,
 "worksheets": [
  {
   "cells": [
    {
     "cell_type": "code",
     "collapsed": false,
     "input": [
      "%pylab inline\n",
      "from subprocess import call\n",
      "import os.path"
     ],
     "language": "python",
     "metadata": {},
     "outputs": [
      {
       "output_type": "stream",
       "stream": "stdout",
       "text": [
        "Populating the interactive namespace from numpy and matplotlib\n"
       ]
      }
     ],
     "prompt_number": 1
    },
    {
     "cell_type": "code",
     "collapsed": false,
     "input": [
      "def data_base_query(query, outputfile, password=\"42\", username=\"forero\"):\n",
      "    website = \"http://wget.multidark.org/MyDB?action=doQuery&SQL=\"\n",
      "    wget_options=\"--auth-no-challenge --content-disposition --cookies=on --keep-session-cookies --save-cookies=cookie.txt --load-cookies=cookie.txt\" \n",
      "    wget_options=wget_options+\" -O \"+outputfile +\" \"\n",
      "    wget_command=\"wget --http-user=\"+username+\" --http-passwd=\"+password+\" \"+wget_options\n",
      "    command = wget_command + \"\\\"\"+ website + query+\"\\\"\"\n",
      "    #print command\n",
      "    retcode = call(command,shell=True)"
     ],
     "language": "python",
     "metadata": {},
     "outputs": [],
     "prompt_number": 2
    },
    {
     "cell_type": "markdown",
     "metadata": {},
     "source": [
      "Load some haloID data corresponding to a subbox of 20Mpc/h from MultiDark"
     ]
    },
    {
     "cell_type": "code",
     "collapsed": false,
     "input": [
      "halo_filename = '../data/special_halo_ID/pathologic_halos.dat'\n",
      "halo_data = loadtxt(halo_filename)"
     ],
     "language": "python",
     "metadata": {},
     "outputs": [],
     "prompt_number": 8
    },
    {
     "cell_type": "code",
     "collapsed": false,
     "input": [
      "BDMV_ID = halo_data[:,0]\n",
      "n_halos = size(BDMV_ID)"
     ],
     "language": "python",
     "metadata": {},
     "outputs": [],
     "prompt_number": 9
    },
    {
     "cell_type": "code",
     "collapsed": false,
     "input": [
      "for halo_ID in range(n_halos):\n",
      "    profile_query = \"select * from MDR1..BDMVprof where bdmId = %d\\\n",
      "    order by Rbin\"%(BDMV_ID[halo_ID])\n",
      "    output_file = \"../data/profile_data/profile_%d_BDMW_ID.csv\"%(BDMV_ID[halo_ID])\n",
      "    if(not os.path.exists(output_file)):\n",
      "        print output_file\n",
      "        n = data_base_query(profile_query, output_file, password=\"lapiz5borra\")"
     ],
     "language": "python",
     "metadata": {},
     "outputs": [],
     "prompt_number": 10
    },
    {
     "cell_type": "code",
     "collapsed": false,
     "input": [
      "prof_data = loadtxt(\"../data/profile_data/profile_8506860440_BDMW_ID.csv\", delimiter=\",\", skiprows=28)"
     ],
     "language": "python",
     "metadata": {},
     "outputs": [],
     "prompt_number": 21
    },
    {
     "cell_type": "code",
     "collapsed": false,
     "input": [
      "r_bin = prof_data[:,5]\n",
      "m_inc = prof_data[:,15]\n",
      "dens_bin = prof_data[:,8]"
     ],
     "language": "python",
     "metadata": {},
     "outputs": [],
     "prompt_number": 25
    },
    {
     "cell_type": "code",
     "collapsed": false,
     "input": [
      "plot(log10(r_bin), log10(m_inc))"
     ],
     "language": "python",
     "metadata": {},
     "outputs": [
      {
       "metadata": {},
       "output_type": "pyout",
       "prompt_number": 30,
       "text": [
        "[<matplotlib.lines.Line2D at 0x10378e7d0>]"
       ]
      },
      {
       "metadata": {},
       "output_type": "display_data",
       "png": "[encoded data removed]",
       "text": [
        "<matplotlib.figure.Figure at 0x10357d390>"
       ]
      }
     ],
     "prompt_number": 30
    },
    {
     "cell_type": "code",
     "collapsed": false,
     "input": [
      "plot(log10(r_bin), log10(dens_bin))"
     ],
     "language": "python",
     "metadata": {},
     "outputs": [
      {
       "metadata": {},
       "output_type": "pyout",
       "prompt_number": 29,
       "text": [
        "[<matplotlib.lines.Line2D at 0x1036fd990>]"
       ]
      },
      {
       "metadata": {},
       "output_type": "display_data",
       "png": "[encoded data removed]",
       "text": [
        "<matplotlib.figure.Figure at 0x1036dfe10>"
       ]
      }
     ],
     "prompt_number": 29
    },
    {
     "cell_type": "code",
     "collapsed": false,
     "input": [],
     "language": "python",
     "metadata": {},
     "outputs": []
    }
   ],
   "metadata": {}
  }
 ]
}